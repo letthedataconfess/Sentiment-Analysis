{
  "nbformat": 4,
  "nbformat_minor": 0,
  "metadata": {
    "colab": {
      "name": "Build your First Sentiment Analysis Project from Scratch.ipynb",
      "provenance": []
    },
    "kernelspec": {
      "display_name": "Python 3",
      "name": "python3"
    }
  },
  "cells": [
    {
      "cell_type": "code",
      "metadata": {
        "colab": {
          "background_save": true,
          "base_uri": "https://localhost:8080/",
          "height": 206
        },
        "id": "q5jKYXbKeCsl",
        "outputId": "1d1bcb7e-0d44-47b4-fc46-f507de51faf5"
      },
      "source": [
        "import pandas as pd\r\n",
        "df=pd.read_csv(\"/content/drive/MyDrive/amazonreviews.tsv\",sep='\\t')\r\n",
        "df.head()"
      ],
      "execution_count": null,
      "outputs": [
        {
          "output_type": "execute_result",
          "data": {
            "text/html": [
              "<div>\n",
              "<style scoped>\n",
              "    .dataframe tbody tr th:only-of-type {\n",
              "        vertical-align: middle;\n",
              "    }\n",
              "\n",
              "    .dataframe tbody tr th {\n",
              "        vertical-align: top;\n",
              "    }\n",
              "\n",
              "    .dataframe thead th {\n",
              "        text-align: right;\n",
              "    }\n",
              "</style>\n",
              "<table border=\"1\" class=\"dataframe\">\n",
              "  <thead>\n",
              "    <tr style=\"text-align: right;\">\n",
              "      <th></th>\n",
              "      <th>label</th>\n",
              "      <th>review</th>\n",
              "    </tr>\n",
              "  </thead>\n",
              "  <tbody>\n",
              "    <tr>\n",
              "      <th>0</th>\n",
              "      <td>pos</td>\n",
              "      <td>Stuning even for the non-gamer: This sound tra...</td>\n",
              "    </tr>\n",
              "    <tr>\n",
              "      <th>1</th>\n",
              "      <td>pos</td>\n",
              "      <td>The best soundtrack ever to anything.: I'm rea...</td>\n",
              "    </tr>\n",
              "    <tr>\n",
              "      <th>2</th>\n",
              "      <td>pos</td>\n",
              "      <td>Amazing!: This soundtrack is my favorite music...</td>\n",
              "    </tr>\n",
              "    <tr>\n",
              "      <th>3</th>\n",
              "      <td>pos</td>\n",
              "      <td>Excellent Soundtrack: I truly like this soundt...</td>\n",
              "    </tr>\n",
              "    <tr>\n",
              "      <th>4</th>\n",
              "      <td>pos</td>\n",
              "      <td>Remember, Pull Your Jaw Off The Floor After He...</td>\n",
              "    </tr>\n",
              "  </tbody>\n",
              "</table>\n",
              "</div>"
            ],
            "text/plain": [
              "  label                                             review\n",
              "0   pos  Stuning even for the non-gamer: This sound tra...\n",
              "1   pos  The best soundtrack ever to anything.: I'm rea...\n",
              "2   pos  Amazing!: This soundtrack is my favorite music...\n",
              "3   pos  Excellent Soundtrack: I truly like this soundt...\n",
              "4   pos  Remember, Pull Your Jaw Off The Floor After He..."
            ]
          },
          "metadata": {
            "tags": []
          },
          "execution_count": 0
        }
      ]
    },
    {
      "cell_type": "code",
      "metadata": {
        "colab": {
          "background_save": true,
          "base_uri": "https://localhost:8080/",
          "height": 375
        },
        "id": "f7FjB8TpKuwg",
        "outputId": "151026cc-e2aa-493a-e26a-23e4d101cbc3"
      },
      "source": [
        "df[\"label\"].value_counts().plot.pie(explode=[0.1,0.1],autopct='%1.1f%%', figsize=(6,6))"
      ],
      "execution_count": null,
      "outputs": [
        {
          "output_type": "execute_result",
          "data": {
            "text/plain": [
              "<matplotlib.axes._subplots.AxesSubplot at 0x7fb866515978>"
            ]
          },
          "metadata": {
            "tags": []
          },
          "execution_count": 0
        },
        {
          "output_type": "display_data",
          "data": {
            "image/png": "[encoded data removed]",
            "text/plain": [
              "<Figure size 432x432 with 1 Axes>"
            ]
          },
          "metadata": {
            "tags": []
          }
        }
      ]
    },
    {
      "cell_type": "code",
      "metadata": {
        "colab": {
          "background_save": true,
          "base_uri": "https://localhost:8080/",
          "height": 297
        },
        "id": "RK7Ud_Dtthqg",
        "outputId": "2fd9c02e-aa7f-4505-959f-188a95650232"
      },
      "source": [
        "# plot of traget values\r\n",
        "import seaborn as sns\r\n",
        "sns.countplot(x='label',data=df)"
      ],
      "execution_count": null,
      "outputs": [
        {
          "output_type": "execute_result",
          "data": {
            "text/plain": [
              "<matplotlib.axes._subplots.AxesSubplot at 0x7fb865703630>"
            ]
          },
          "metadata": {
            "tags": []
          },
          "execution_count": 0
        },
        {
          "output_type": "display_data",
          "data": {
            "image/png": "[encoded data removed]",
            "text/plain": [
              "<Figure size 432x288 with 1 Axes>"
            ]
          },
          "metadata": {
            "tags": []
          }
        }
      ]
    },
    {
      "cell_type": "code",
      "metadata": {
        "colab": {
          "background_save": true
        },
        "id": "4rlAhSfKiq4T"
      },
      "source": [
        "#importing all the required libraries\r\n",
        "import nltk\r\n",
        "from nltk.corpus import stopwords\r\n",
        "from nltk.tokenize import word_tokenize,sent_tokenize\r\n",
        "from nltk.stem import WordNetLemmatizer\r\n",
        "from nltk import tokenize"
      ],
      "execution_count": null,
      "outputs": []
    },
    {
      "cell_type": "code",
      "metadata": {
        "colab": {
          "background_save": true,
          "base_uri": "https://localhost:8080/",
          "height": 91
        },
        "id": "eZ78lW27jBM2",
        "outputId": "66961f74-c088-45ee-a237-6e656b316d37"
      },
      "source": [
        "df.review=df.review.apply(lambda x: x.lower())\r\n",
        "df.review[1]"
      ],
      "execution_count": null,
      "outputs": [
        {
          "output_type": "execute_result",
          "data": {
            "application/vnd.google.colaboratory.intrinsic+json": {
              "type": "string"
            },
            "text/plain": [
              "\"the best soundtrack ever to anything.: i'm reading a lot of reviews saying that this is the best 'game soundtrack' and i figured that i'd write a review to disagree a bit. this in my opinino is yasunori mitsuda's ultimate masterpiece. the music is timeless and i'm been listening to it for years now and its beauty simply refuses to fade.the price tag on this is pretty staggering i must say, but if you are going to buy any cd for this much money, this is the only one that i feel would be worth every penny.\""
            ]
          },
          "metadata": {
            "tags": []
          },
          "execution_count": 0
        }
      ]
    },
    {
      "cell_type": "code",
      "metadata": {
        "colab": {
          "background_save": true,
          "base_uri": "https://localhost:8080/",
          "height": 146
        },
        "id": "fHWWU9f3jGKK",
        "outputId": "b8d6ba83-931c-440d-c3a1-5ef111599f2b"
      },
      "source": [
        "!pip install contractions\r\n",
        "import contractions\r\n",
        "\r\n",
        "# Expanding contractions\r\n",
        "def con(text):\r\n",
        "  expand=contractions.fix(text)\r\n",
        "  return expand\r\n",
        "\r\n",
        "df.review=df.review.apply(con)\r\n",
        "df['review'][0]"
      ],
      "execution_count": null,
      "outputs": [
        {
          "output_type": "stream",
          "text": [
            "Collecting contractions\n",
            "  Downloading https://files.pythonhosted.org/packages/4a/5f/91102df95715fdda07f56a7eba2baae983e2ae16a080eb52d79e08ec6259/contractions-0.0.45-py2.py3-none-any.whl\n",
            "Collecting textsearch\n",
            "  Downloading https://files.pythonhosted.org/packages/42/a8/03407021f9555043de5492a2bd7a35c56cc03c2510092b5ec018cae1bbf1/textsearch-0.0.17-py2.py3-none-any.whl\n",
            "Collecting pyahocorasick\n",
            "\u001b[?25l  Downloading https://files.pythonhosted.org/packages/f4/9f/f0d8e8850e12829eea2e778f1c90e3c53a9a799b7f412082a5d21cd19ae1/pyahocorasick-1.4.0.tar.gz (312kB)\n",
            "\u001b[K     |████████████████████████████████| 317kB 9.9MB/s \n",
            "\u001b[?25hCollecting Unidecode\n",
            "\u001b[?25l  Downloading https://files.pythonhosted.org/packages/74/65/91eab655041e9e92f948cb7302e54962035762ce7b518272ed9d6b269e93/Unidecode-1.1.2-py2.py3-none-any.whl (239kB)\n",
            "\u001b[K     |████████████████████████████████| 245kB 13.8MB/s \n",
            "\u001b[?25hBuilding wheels for collected packages: pyahocorasick\n",
            "  Building wheel for pyahocorasick (setup.py) ... \u001b[?25l\u001b[?25hdone\n",
            "  Created wheel for pyahocorasick: filename=pyahocorasick-1.4.0-cp36-cp36m-linux_x86_64.whl size=81705 sha256=8c23ff1efc84d8ae600b34fc176ee967c6602f7cb1a04e3681c59631576c9d5d\n",
            "  Stored in directory: /root/.cache/pip/wheels/0a/90/61/87a55f5b459792fbb2b7ba6b31721b06ff5cf6bde541b40994\n",
            "Successfully built pyahocorasick\n",
            "Installing collected packages: pyahocorasick, Unidecode, textsearch, contractions\n",
            "Successfully installed Unidecode-1.1.2 contractions-0.0.45 pyahocorasick-1.4.0 textsearch-0.0.17\n"
          ],
          "name": "stdout"
        },
        {
          "output_type": "execute_result",
          "data": {
            "application/vnd.google.colaboratory.intrinsic+json": {
              "type": "string"
            },
            "text/plain": [
              "'stuning even for the non-gamer: this sound track was beautiful! it paints the senery in your mind so well i would recomend it even to people who hate vid. game music! i have played the game chrono cross but out of all of the games i have ever played it has the best music! it backs away from crude keyboarding and takes a fresher step with grate guitars and soulful orchestras. it would impress anyone who cares to listen! ^_^'"
            ]
          },
          "metadata": {
            "tags": []
          },
          "execution_count": 0
        }
      ]
    },
    {
      "cell_type": "code",
      "metadata": {
        "colab": {
          "background_save": true
        },
        "id": "utsQtk6Yjeu7"
      },
      "source": [
        "import string\r\n",
        "\r\n",
        "def remove_punc(text):\r\n",
        "    for i in string.punctuation:\r\n",
        "        text=text.replace(i,' ')\r\n",
        "    \r\n",
        "    return text\r\n",
        "\r\n",
        "df.review=df.review.apply(remove_punc)"
      ],
      "execution_count": null,
      "outputs": []
    },
    {
      "cell_type": "code",
      "metadata": {
        "colab": {
          "background_save": true,
          "base_uri": "https://localhost:8080/",
          "height": 91
        },
        "id": "OMLFc_ejkPJn",
        "outputId": "0e99ddc2-d65a-48c4-fce3-dcbf7b4df009"
      },
      "source": [
        "df.review[4]"
      ],
      "execution_count": null,
      "outputs": [
        {
          "output_type": "execute_result",
          "data": {
            "application/vnd.google.colaboratory.intrinsic+json": {
              "type": "string"
            },
            "text/plain": [
              "'remember  pull your jaw off the floor after hearing it  if you have played the game  you know how divine the music is  every single song tells a story of the game  it is that good  the greatest songs are without a doubt  chrono cross  time s scar  magical dreamers  the wind  the stars  and the sea and radical dreamers  unstolen jewel   translation varies  this music is perfect if you ask me  the best it can be  yasunori mitsuda just poured his heart on and wrote it down on paper '"
            ]
          },
          "metadata": {
            "tags": []
          },
          "execution_count": 0
        }
      ]
    },
    {
      "cell_type": "code",
      "metadata": {
        "colab": {
          "base_uri": "https://localhost:8080/",
          "height": 184
        },
        "id": "lD3OsMopjir3",
        "outputId": "2d294f81-deac-4d78-c439-0d835ccb74f2"
      },
      "source": [
        "nltk.download('stopwords')\r\n",
        "stopword_list=stopwords.words('english')\r\n",
        "stopword_list.remove('no')\r\n",
        "stopword_list.remove('not')\r\n",
        "print(stopword_list)\r\n",
        "\r\n",
        "df.review=df.review.apply(lambda x : \" \".join(x for x in x.split() if x not in stopword_list))\r\n",
        "df['review'][5]"
      ],
      "execution_count": null,
      "outputs": [
        {
          "output_type": "stream",
          "text": [
            "[nltk_data] Downloading package stopwords to /root/nltk_data...\n",
            "[nltk_data]   Package stopwords is already up-to-date!\n",
            "['i', 'me', 'my', 'myself', 'we', 'our', 'ours', 'ourselves', 'you', \"you're\", \"you've\", \"you'll\", \"you'd\", 'your', 'yours', 'yourself', 'yourselves', 'he', 'him', 'his', 'himself', 'she', \"she's\", 'her', 'hers', 'herself', 'it', \"it's\", 'its', 'itself', 'they', 'them', 'their', 'theirs', 'themselves', 'what', 'which', 'who', 'whom', 'this', 'that', \"that'll\", 'these', 'those', 'am', 'is', 'are', 'was', 'were', 'be', 'been', 'being', 'have', 'has', 'had', 'having', 'do', 'does', 'did', 'doing', 'a', 'an', 'the', 'and', 'but', 'if', 'or', 'because', 'as', 'until', 'while', 'of', 'at', 'by', 'for', 'with', 'about', 'against', 'between', 'into', 'through', 'during', 'before', 'after', 'above', 'below', 'to', 'from', 'up', 'down', 'in', 'out', 'on', 'off', 'over', 'under', 'again', 'further', 'then', 'once', 'here', 'there', 'when', 'where', 'why', 'how', 'all', 'any', 'both', 'each', 'few', 'more', 'most', 'other', 'some', 'such', 'nor', 'only', 'own', 'same', 'so', 'than', 'too', 'very', 's', 't', 'can', 'will', 'just', 'don', \"don't\", 'should', \"should've\", 'now', 'd', 'll', 'm', 'o', 're', 've', 'y', 'ain', 'aren', \"aren't\", 'couldn', \"couldn't\", 'didn', \"didn't\", 'doesn', \"doesn't\", 'hadn', \"hadn't\", 'hasn', \"hasn't\", 'haven', \"haven't\", 'isn', \"isn't\", 'ma', 'mightn', \"mightn't\", 'mustn', \"mustn't\", 'needn', \"needn't\", 'shan', \"shan't\", 'shouldn', \"shouldn't\", 'wasn', \"wasn't\", 'weren', \"weren't\", 'won', \"won't\", 'wouldn', \"wouldn't\"]\n"
          ],
          "name": "stdout"
        },
        {
          "output_type": "execute_result",
          "data": {
            "application/vnd.google.colaboratory.intrinsic+json": {
              "type": "string"
            },
            "text/plain": [
              "\"['absolute', 'masterpiece', 'quite', 'sure', 'actually', 'taking', 'time', 'read', 'played', 'game', 'least', 'heard', 'least', 'track', 'whether', 'aware', 'not', 'mitsuda', 'music', 'contributed', 'greatly', 'mood', 'every', 'single', 'minute', 'whole', 'game', 'composed', '3', 'cd', 'quite', 'song', 'not', 'exact', 'count', 'heart', 'rendering', 'impressively', 'remarkable', 'soundtrack', 'one', 'assure', 'not', 'forget', 'everything', 'every', 'listener', 'fast', 'paced', 'energetic', 'dancing', 'tokage', 'termina', 'home', 'slower', 'haunting', 'dragon', 'god', 'purely', 'beautifully', 'composed', 'time', 'scar', 'even', 'fantastic', 'vocal', 'radical', 'dreamer', 'one', 'best', 'videogame', 'soundtrack', 'surely', 'mitsuda', 'best', 'ever']\""
            ]
          },
          "metadata": {
            "tags": []
          },
          "execution_count": 128
        }
      ]
    },
    {
      "cell_type": "code",
      "metadata": {
        "colab": {
          "base_uri": "https://localhost:8080/"
        },
        "id": "FMcjasCkj-mi",
        "outputId": "302d3482-484f-49a5-8c30-933d01445aeb"
      },
      "source": [
        "nltk.download('punkt')\r\n",
        "df['review']=df.review.apply(word_tokenize)\r\n",
        "df['review'][0]"
      ],
      "execution_count": null,
      "outputs": [
        {
          "output_type": "stream",
          "text": [
            "[nltk_data] Downloading package punkt to /root/nltk_data...\n",
            "[nltk_data]   Package punkt is already up-to-date!\n"
          ],
          "name": "stdout"
        },
        {
          "output_type": "execute_result",
          "data": {
            "text/plain": [
              "['stuning',\n",
              " 'even',\n",
              " 'non',\n",
              " 'gamer',\n",
              " 'sound',\n",
              " 'track',\n",
              " 'beautiful',\n",
              " 'paints',\n",
              " 'senery',\n",
              " 'mind',\n",
              " 'well',\n",
              " 'would',\n",
              " 'recomend',\n",
              " 'even',\n",
              " 'people',\n",
              " 'hate',\n",
              " 'vid',\n",
              " 'game',\n",
              " 'music',\n",
              " 'played',\n",
              " 'game',\n",
              " 'chrono',\n",
              " 'cross',\n",
              " 'games',\n",
              " 'ever',\n",
              " 'played',\n",
              " 'best',\n",
              " 'music',\n",
              " 'backs',\n",
              " 'away',\n",
              " 'crude',\n",
              " 'keyboarding',\n",
              " 'takes',\n",
              " 'fresher',\n",
              " 'step',\n",
              " 'grate',\n",
              " 'guitars',\n",
              " 'soulful',\n",
              " 'orchestras',\n",
              " 'would',\n",
              " 'impress',\n",
              " 'anyone',\n",
              " 'cares',\n",
              " 'listen']"
            ]
          },
          "metadata": {
            "tags": []
          },
          "execution_count": 66
        }
      ]
    },
    {
      "cell_type": "code",
      "metadata": {
        "colab": {
          "base_uri": "https://localhost:8080/"
        },
        "id": "5e7LxgEdZo92",
        "outputId": "0618eb27-c32d-4a80-cdc7-3a1ea2aa80b5"
      },
      "source": [
        "nltk.download('wordnet')\r\n",
        "lemmatizer=WordNetLemmatizer()\r\n",
        "df['review']=df.review.apply(lambda x:[lemmatizer.lemmatize(word) for word in x])\r\n"
      ],
      "execution_count": null,
      "outputs": [
        {
          "output_type": "stream",
          "text": [
            "[nltk_data] Downloading package wordnet to /root/nltk_data...\n",
            "[nltk_data]   Package wordnet is already up-to-date!\n"
          ],
          "name": "stdout"
        }
      ]
    },
    {
      "cell_type": "code",
      "metadata": {
        "id": "2LyqARJlmy6i"
      },
      "source": [
        "df.review= df.review.astype(str)\r\n"
      ],
      "execution_count": null,
      "outputs": []
    },
    {
      "cell_type": "code",
      "metadata": {
        "id": "gXp91Qu8nFJl"
      },
      "source": [
        "x = df.iloc[:,1].values \r\n",
        "y = df.iloc[:,0].values\r\n",
        "\r\n",
        "from sklearn.model_selection import train_test_split\r\n",
        "x_train,x_test,y_train,y_test = train_test_split(x,y,random_state=0)\r\n"
      ],
      "execution_count": null,
      "outputs": []
    },
    {
      "cell_type": "code",
      "metadata": {
        "id": "Oo3a_wARuYoR"
      },
      "source": [
        "from sklearn.feature_extraction.text import TfidfVectorizer\r\n",
        "tfidf=TfidfVectorizer()\r\n",
        "x_train_tfidf = tfidf.fit_transform(x_train)\r\n",
        "x_test_tfidf = tfidf.transform(x_test)"
      ],
      "execution_count": null,
      "outputs": []
    },
    {
      "cell_type": "code",
      "metadata": {
        "colab": {
          "base_uri": "https://localhost:8080/"
        },
        "id": "YLBi2Qyb3wf4",
        "outputId": "1a9fd307-60ab-4336-a8a5-2c4520f78d4f"
      },
      "source": [
        "from sklearn.svm import SVC\r\n",
        "clf=SVC()\r\n",
        "clf.fit(x_train_tfidf,y_train)\r\n",
        "\r\n",
        "y_pred=clf.predict(x_test_tfidf)\r\n",
        "print(y_pred, y_test)"
      ],
      "execution_count": null,
      "outputs": [
        {
          "output_type": "execute_result",
          "data": {
            "text/plain": [
              "SVC(C=1.0, break_ties=False, cache_size=200, class_weight=None, coef0=0.0,\n",
              "    decision_function_shape='ovr', degree=3, gamma='scale', kernel='rbf',\n",
              "    max_iter=-1, probability=False, random_state=None, shrinking=True,\n",
              "    tol=0.001, verbose=False)"
            ]
          },
          "metadata": {
            "tags": []
          },
          "execution_count": 114
        }
      ]
    },
    {
      "cell_type": "code",
      "metadata": {
        "colab": {
          "base_uri": "https://localhost:8080/"
        },
        "id": "MUAhk9E2nJXm",
        "outputId": "4c369c7a-a504-4cb9-fe9d-121b24644893"
      },
      "source": [
        "y_pred=clf.predict(x_test_tfidf)\r\n",
        "print(y_pred, y_test)"
      ],
      "execution_count": null,
      "outputs": [
        {
          "output_type": "stream",
          "text": [
            "['neg' 'pos' 'neg' ... 'neg' 'neg' 'pos'] ['neg' 'pos' 'neg' ... 'pos' 'neg' 'pos']\n"
          ],
          "name": "stdout"
        }
      ]
    },
    {
      "cell_type": "code",
      "metadata": {
        "colab": {
          "base_uri": "https://localhost:8080/"
        },
        "id": "StZiE0DToybj",
        "outputId": "c5f2c31f-487e-406b-dafb-67d18a53c3cb"
      },
      "source": [
        "from sklearn.metrics import accuracy_score, classification_report,confusion_matrix\r\n",
        "print()\r\n",
        "print(accuracy_score(y_pred,y_test))"
      ],
      "execution_count": null,
      "outputs": [
        {
          "output_type": "execute_result",
          "data": {
            "text/plain": [
              "0.8784"
            ]
          },
          "metadata": {
            "tags": []
          },
          "execution_count": 117
        }
      ]
    },
    {
      "cell_type": "code",
      "metadata": {
        "colab": {
          "base_uri": "https://localhost:8080/",
          "height": 36
        },
        "id": "bEGD7ZmqpjSr",
        "outputId": "ebacdef6-2c41-45ef-b6fd-d0a299f53073"
      },
      "source": [
        "message=[\"Congratulations on building your first Sentiment Analysis model! You're going great!\"]\r\n",
        "message=tfidf.transform(message).toarray()\r\n",
        "clf.predict(message)[0]"
      ],
      "execution_count": null,
      "outputs": [
        {
          "output_type": "execute_result",
          "data": {
            "application/vnd.google.colaboratory.intrinsic+json": {
              "type": "string"
            },
            "text/plain": [
              "'pos'"
            ]
          },
          "metadata": {
            "tags": []
          },
          "execution_count": 160
        }
      ]
    },
    {
      "cell_type": "code",
      "metadata": {
        "id": "q-pBirzjLQux"
      },
      "source": [
        ""
      ],
      "execution_count": null,
      "outputs": []
    }
  ]
}